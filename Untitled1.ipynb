{
  "nbformat": 4,
  "nbformat_minor": 0,
  "metadata": {
    "colab": {
      "provenance": [],
      "authorship_tag": "ABX9TyML5JZ+TFWD2JCnwjtV9EnD",
      "include_colab_link": true
    },
    "kernelspec": {
      "name": "python3",
      "display_name": "Python 3"
    },
    "language_info": {
      "name": "python"
    }
  },
  "cells": [
    {
      "cell_type": "markdown",
      "metadata": {
        "id": "view-in-github",
        "colab_type": "text"
      },
      "source": [
        "<a href=\"https://colab.research.google.com/github/Prasanthk7125/copilot-codespaces-vscode/blob/main/Untitled1.ipynb\" target=\"_parent\"><img src=\"https://colab.research.google.com/assets/colab-badge.svg\" alt=\"Open In Colab\"/></a>"
      ]
    },
    {
      "cell_type": "code",
      "source": [
        "# STEP 1: Install required package\n",
        "!pip install --upgrade google-cloud-texttospeech\n",
        "\n",
        "# STEP 2: Upload service account JSON key\n",
        "from google.colab import files\n",
        "import os\n",
        "uploaded = files.upload()\n",
        "json_key = list(uploaded.keys())[0]\n",
        "os.environ[\"GOOGLE_APPLICATION_CREDENTIALS\"] = json_key\n",
        "\n",
        "# STEP 3: Generate speech using WaveNet\n",
        "from google.cloud import texttospeech\n",
        "\n",
        "def generate_audio(text, output=\"output.wav\"):\n",
        "    client = texttospeech.TextToSpeechClient()\n",
        "\n",
        "    synthesis_input = texttospeech.SynthesisInput(text=text)\n",
        "\n",
        "    voice = texttospeech.VoiceSelectionParams(\n",
        "        language_code=\"en-US\",\n",
        "        name=\"en-US-Wavenet-D\",  # You can try \"en-US-Wavenet-F\" for female voice\n",
        "        ssml_gender=texttospeech.SsmlVoiceGender.MALE\n",
        "    )\n",
        "\n",
        "    audio_config = texttospeech.AudioConfig(\n",
        "        audio_encoding=texttospeech.AudioEncoding.LINEAR16\n",
        "    )\n",
        "\n",
        "    response = client.synthesize_speech(\n",
        "        input=synthesis_input,\n",
        "        voice=voice,\n",
        "        audio_config=audio_config\n",
        "    )\n",
        "\n",
        "    with open(output, \"wb\") as out:\n",
        "        out.write(response.audio_content)\n",
        "        print(f\"Audio content written to file: {output}\")\n",
        "\n",
        "# STEP 4: Generate and download the file\n",
        "generate_audio(\"Hello! This is a WaveNet voice speaking from your Google Colab project.\")\n",
        "files.download(\"output.wav\")"
      ],
      "metadata": {
        "id": "RQoxnO48lH7C"
      },
      "execution_count": null,
      "outputs": []
    }
  ]
}